{
 "cells": [
  {
   "cell_type": "code",
   "execution_count": null,
   "id": "33ce5e6a",
   "metadata": {},
   "outputs": [],
   "source": [
    "https://www.kaggle.com/datasets/jimschacko/airlines-dataset-to-predict-a-delay"
   ]
  },
  {
   "cell_type": "code",
   "execution_count": null,
   "id": "d80d13f2",
   "metadata": {},
   "outputs": [],
   "source": [
    "%matplotlib inline\n",
    "import matplotlib.pyplot as plt\n",
    "import numpy as np\n",
    "import pandas as pd"
   ]
  },
  {
   "cell_type": "code",
   "execution_count": null,
   "id": "43298389",
   "metadata": {},
   "outputs": [],
   "source": [
    "Airline = pd.read_csv('airlines.csv', header=0,  index_col=0)\n",
    "Airline"
   ]
  },
  {
   "cell_type": "code",
   "execution_count": null,
   "id": "71421113",
   "metadata": {},
   "outputs": [],
   "source": [
    "X_cat = Airline[['Airline', 'AirportFrom', 'AirportTo', 'DayOfWeek']]\n",
    "X_num = Airline.drop(['Airline', 'AirportFrom', 'AirportTo', 'DayOfWeek', 'Delay'], axis=1)\n",
    "X_num"
   ]
  },
  {
   "cell_type": "code",
   "execution_count": null,
   "id": "52d205c5",
   "metadata": {},
   "outputs": [],
   "source": [
    "X_cat"
   ]
  },
  {
   "cell_type": "code",
   "execution_count": null,
   "id": "101aeb85",
   "metadata": {},
   "outputs": [],
   "source": [
    "# Catagorize all the non number data (AKA Weekdays, Flight locations, and Airline)\n",
    "X_cat = pd.get_dummies(X_cat, drop_first=True)\n",
    "X_cat"
   ]
  },
  {
   "cell_type": "code",
   "execution_count": null,
   "id": "d5cb3d6a",
   "metadata": {},
   "outputs": [],
   "source": [
    "# Scale just the number data of the X-axis and add it to the catagorized dataframe as is.\n",
    "# Make it your new X-axis with the Y-axis being delayed or not\n",
    "from sklearn.preprocessing import StandardScaler\n",
    "scaler = StandardScaler()\n",
    "scaler.fit(X_num)\n",
    "X_scaled = scaler.transform(X_num)\n",
    "X_scaled = pd.DataFrame(X_scaled, index=X_num.index, columns=X_num.columns)\n",
    "X = pd.concat([X_scaled, X_cat], axis=1)\n",
    "y = Airline['Delay']\n",
    "X.head()"
   ]
  },
  {
   "cell_type": "code",
   "execution_count": null,
   "id": "68e086c8",
   "metadata": {},
   "outputs": [],
   "source": [
    "from sklearn.model_selection import train_test_split\n",
    "\n",
    "X_train, X_test, y_train, y_test = train_test_split(X, y, random_state=42)"
   ]
  },
  {
   "cell_type": "code",
   "execution_count": null,
   "id": "197c9356",
   "metadata": {},
   "outputs": [],
   "source": [
    "from sklearn.linear_model import LogisticRegression\n",
    "classifier = LogisticRegression()\n",
    "classifier"
   ]
  },
  {
   "cell_type": "code",
   "execution_count": null,
   "id": "8b242c48",
   "metadata": {},
   "outputs": [],
   "source": [
    "classifier.fit(X_train, y_train)"
   ]
  },
  {
   "cell_type": "code",
   "execution_count": null,
   "id": "38a902de",
   "metadata": {
    "scrolled": true
   },
   "outputs": [],
   "source": [
    "print(f\"Training Data Score: {classifier.score(X_train, y_train)}\")\n",
    "print(f\"Testing Data Score: {classifier.score(X_test, y_test)}\")"
   ]
  },
  {
   "cell_type": "code",
   "execution_count": null,
   "id": "289834e9",
   "metadata": {},
   "outputs": [],
   "source": [
    "# Train a Random Forest Classifier model and print the model score\n",
    "from sklearn.ensemble import RandomForestClassifier"
   ]
  },
  {
   "cell_type": "code",
   "execution_count": null,
   "id": "949bc42b",
   "metadata": {},
   "outputs": [],
   "source": [
    "# Scale the data\n",
    "scaler = StandardScaler()\n",
    "scaler.fit(X_train)\n",
    "X_train_scaled = scaler.transform(X_train)\n",
    "X_test_scaled = scaler.transform(X_test)"
   ]
  },
  {
   "cell_type": "code",
   "execution_count": null,
   "id": "1ccfac81",
   "metadata": {},
   "outputs": [],
   "source": [
    "randomForestClass = RandomForestClassifier(random_state=42)\n",
    "randomForestClass.fit(X_train, y_train)"
   ]
  },
  {
   "cell_type": "code",
   "execution_count": null,
   "id": "a6bf0955",
   "metadata": {},
   "outputs": [],
   "source": [
    " print(\"RandomForestClassifier score: \", randomForestClass.score(X_test,y_test))"
   ]
  },
  {
   "cell_type": "code",
   "execution_count": null,
   "id": "6a1dc9de",
   "metadata": {},
   "outputs": [],
   "source": [
    "# Create a RandomForestClassifier model, fit it to the data, and print the model's score.\n",
    "randomForestClass_scaled = RandomForestClassifier(random_state=0)\n",
    "randomForestClass_scaled.fit(X_train_scaled, y_train)\n",
    "print(\"RandomForestClassifier scaled score: \", randomForestClass_scaled.score(X_test_scaled, y_test))"
   ]
  },
  {
   "cell_type": "code",
   "execution_count": null,
   "id": "537741c5",
   "metadata": {},
   "outputs": [],
   "source": [
    "from scipy.io import arff\n",
    "import pandas as pd\n",
    "import numpy as np\n",
    "import matplotlib.pyplot as plt\n",
    "import seaborn as sns\n",
    "import matplotlib as mpl\n",
    "from sklearn.model_selection import KFold\n",
    "from sklearn.model_selection import cross_validate\n",
    "from scipy.stats import randint\n",
    "from sklearn import metrics"
   ]
  },
  {
   "cell_type": "code",
   "execution_count": null,
   "id": "599851ff",
   "metadata": {},
   "outputs": [],
   "source": [
    "Airline.columns"
   ]
  },
  {
   "cell_type": "code",
   "execution_count": null,
   "id": "f74a0ec0",
   "metadata": {},
   "outputs": [],
   "source": [
    "sns.heatmap(Airline.corr(), annot=True)"
   ]
  },
  {
   "cell_type": "code",
   "execution_count": null,
   "id": "f2d3cda1",
   "metadata": {},
   "outputs": [],
   "source": [
    "sns.countplot(data=Airline, x='DayOfWeek', hue='Delay')"
   ]
  },
  {
   "cell_type": "code",
   "execution_count": null,
   "id": "272aced5",
   "metadata": {},
   "outputs": [],
   "source": [
    "# Size for images\n",
    "mpl.rcParams['figure.figsize'] = (17,10)\n",
    "mpl.rcParams['font.size'] = 20"
   ]
  },
  {
   "cell_type": "code",
   "execution_count": null,
   "id": "e5c6ce7e",
   "metadata": {},
   "outputs": [],
   "source": [
    "Airline = pd.read_csv('airlines.csv', header=0,  index_col=1)\n",
    "Airline.head()"
   ]
  },
  {
   "cell_type": "code",
   "execution_count": null,
   "id": "93954fae",
   "metadata": {},
   "outputs": [],
   "source": [
    "# Delete id column\n",
    "Airline = Airline.drop(columns = ['id'])\n",
    "Airline.head()"
   ]
  },
  {
   "cell_type": "code",
   "execution_count": null,
   "id": "6c79ea1c",
   "metadata": {},
   "outputs": [],
   "source": [
    "# Bring only the nuemric columns\n",
    "numerics = ['int16', 'int32', 'int64', 'float16', 'float32', 'float64']\n",
    "numeric_column_names = Airline.select_dtypes(include=numerics).columns\n",
    "print(numeric_column_names, '\\n')\n",
    "\n",
    "# Bring only the object columns (strings)\n",
    "objects = 'object'\n",
    "object_column_names = Airline.select_dtypes(include=objects).columns\n",
    "print(object_column_names, '\\n')"
   ]
  },
  {
   "cell_type": "code",
   "execution_count": null,
   "id": "a6bae1a6",
   "metadata": {},
   "outputs": [],
   "source": [
    "for column in object_column_names:\n",
    "    value_counts_column =  Airline[column].value_counts()\n",
    "    if value_counts_column.shape[0] > 20:\n",
    "        value_counts_column = value_counts_column.sort_values(ascending = False)\n",
    "        value_counts_column = value_counts_column[:20]\n",
    "    ax = sns.barplot(y=value_counts_column.values, x=value_counts_column.index)\n",
    "    ax = ax.set_xticklabels(ax.get_xticklabels(),rotation = 30)\n",
    "    plt.show()"
   ]
  },
  {
   "cell_type": "code",
   "execution_count": null,
   "id": "c27bee4b",
   "metadata": {},
   "outputs": [],
   "source": []
  },
  {
   "cell_type": "code",
   "execution_count": null,
   "id": "2eb6ed7c",
   "metadata": {},
   "outputs": [],
   "source": []
  }
 ],
 "metadata": {
  "kernelspec": {
   "display_name": "Python [conda env:PythonData38] *",
   "language": "python",
   "name": "conda-env-PythonData38-py"
  },
  "language_info": {
   "codemirror_mode": {
    "name": "ipython",
    "version": 3
   },
   "file_extension": ".py",
   "mimetype": "text/x-python",
   "name": "python",
   "nbconvert_exporter": "python",
   "pygments_lexer": "ipython3",
   "version": "3.8.12"
  }
 },
 "nbformat": 4,
 "nbformat_minor": 5
}
