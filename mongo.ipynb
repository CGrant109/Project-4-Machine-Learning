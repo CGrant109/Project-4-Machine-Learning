{
 "cells": [
  {
   "cell_type": "code",
   "execution_count": null,
   "id": "d2206d7d",
   "metadata": {},
   "outputs": [],
   "source": [
    "import pymongo\n",
    "import pandas as pd\n"
   ]
  },
  {
   "cell_type": "code",
   "execution_count": null,
   "id": "0440840c",
   "metadata": {},
   "outputs": [],
   "source": [
    "conn = 'mongodb://localhost:27017'\n",
    "client = pymongo.MongoClient(conn)\n",
    "\n",
    "# Define the 'classDB' database in Mongo\n",
    "db = client.airlinesDB"
   ]
  },
  {
   "cell_type": "code",
   "execution_count": null,
   "id": "c4a893ae",
   "metadata": {},
   "outputs": [],
   "source": [
    "airlines=pd.read_csv(\"data/airlines.csv\")"
   ]
  },
  {
   "cell_type": "code",
   "execution_count": null,
   "id": "54e42d4b",
   "metadata": {},
   "outputs": [],
   "source": [
    "airlines"
   ]
  },
  {
   "cell_type": "code",
   "execution_count": null,
   "id": "94862a37",
   "metadata": {},
   "outputs": [],
   "source": [
    "airports=pd.read_csv(\"data/airports.csv\")"
   ]
  },
  {
   "cell_type": "code",
   "execution_count": null,
   "id": "7e162dbc",
   "metadata": {},
   "outputs": [],
   "source": [
    "airport_names = airports.drop(columns=['CITY', 'STATE', 'COUNTRY', 'LATITUDE','LONGITUDE'])"
   ]
  },
  {
   "cell_type": "code",
   "execution_count": null,
   "id": "b0ddc880",
   "metadata": {},
   "outputs": [],
   "source": [
    "dict = airport_names.to_dict(\"records\")"
   ]
  },
  {
   "cell_type": "code",
   "execution_count": null,
   "id": "f1905dd7",
   "metadata": {},
   "outputs": [],
   "source": [
    "air_dict=airlines.to_dict(\"records\")"
   ]
  },
  {
   "cell_type": "code",
   "execution_count": null,
   "id": "1e9dec0f",
   "metadata": {},
   "outputs": [],
   "source": [
    "air_dict"
   ]
  },
  {
   "cell_type": "code",
   "execution_count": null,
   "id": "ddc0e329",
   "metadata": {},
   "outputs": [],
   "source": [
    "db.airports.insert_many(dict)"
   ]
  },
  {
   "cell_type": "code",
   "execution_count": null,
   "id": "43a7ceea",
   "metadata": {},
   "outputs": [],
   "source": [
    "db.airlines.insert_many(air_dict)"
   ]
  },
  {
   "cell_type": "code",
   "execution_count": null,
   "id": "7d3389cc",
   "metadata": {},
   "outputs": [],
   "source": []
  }
 ],
 "metadata": {
  "kernelspec": {
   "display_name": "Python 3 (ipykernel)",
   "language": "python",
   "name": "python3"
  },
  "language_info": {
   "codemirror_mode": {
    "name": "ipython",
    "version": 3
   },
   "file_extension": ".py",
   "mimetype": "text/x-python",
   "name": "python",
   "nbconvert_exporter": "python",
   "pygments_lexer": "ipython3",
   "version": "3.8.13"
  }
 },
 "nbformat": 4,
 "nbformat_minor": 5
}
