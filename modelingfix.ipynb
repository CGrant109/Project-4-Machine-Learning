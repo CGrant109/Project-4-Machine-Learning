{
 "cells": [
  {
   "cell_type": "code",
   "execution_count": null,
   "id": "0e05b640",
   "metadata": {},
   "outputs": [],
   "source": [
    "%matplotlib inline\n",
    "import matplotlib.pyplot as plt\n",
    "import numpy as np\n",
    "import pandas as pd"
   ]
  },
  {
   "cell_type": "code",
   "execution_count": null,
   "id": "f749ea25",
   "metadata": {},
   "outputs": [],
   "source": [
    "Airline_path = \"data/Fixed_flight.csv\"\n",
    "\n",
    "Airline = pd.read_csv(Airline_path, header=0,  index_col=0)\n",
    "Airline"
   ]
  },
  {
   "cell_type": "code",
   "execution_count": null,
   "id": "cc73364f",
   "metadata": {},
   "outputs": [],
   "source": [
    "Airline.info()"
   ]
  },
  {
   "cell_type": "code",
   "execution_count": null,
   "id": "b4f98bd2",
   "metadata": {},
   "outputs": [],
   "source": [
    "Airline.isna().sum()"
   ]
  },
  {
   "cell_type": "code",
   "execution_count": null,
   "id": "e4493405",
   "metadata": {},
   "outputs": [],
   "source": [
    "Airline.describe()"
   ]
  },
  {
   "cell_type": "code",
   "execution_count": null,
   "id": "ec66e231",
   "metadata": {},
   "outputs": [],
   "source": [
    "Airline.columns"
   ]
  },
  {
   "cell_type": "code",
   "execution_count": null,
   "id": "b1f553da",
   "metadata": {},
   "outputs": [],
   "source": [
    "# Data Preprocessing"
   ]
  },
  {
   "cell_type": "code",
   "execution_count": null,
   "id": "801c0061",
   "metadata": {},
   "outputs": [],
   "source": [
    "X_cat = Airline[['AIRLINE', 'ORIGIN_AIRPORT', 'DESTINATION_AIRPORT', 'DAY']]\n",
    "X_num = Airline.drop(['AIRLINE', 'ORIGIN_AIRPORT', 'DESTINATION_AIRPORT', 'DAY', 'DELAYED'], axis=1)"
   ]
  },
  {
   "cell_type": "code",
   "execution_count": null,
   "id": "47950a62",
   "metadata": {},
   "outputs": [],
   "source": [
    "X_cat = pd.get_dummies(X_cat, drop_first=True)"
   ]
  },
  {
   "cell_type": "code",
   "execution_count": null,
   "id": "ef9302d6",
   "metadata": {},
   "outputs": [],
   "source": [
    "X_cat"
   ]
  },
  {
   "cell_type": "code",
   "execution_count": null,
   "id": "d2fc596e",
   "metadata": {},
   "outputs": [],
   "source": [
    "from sklearn.preprocessing import StandardScaler"
   ]
  },
  {
   "cell_type": "code",
   "execution_count": null,
   "id": "02885c09",
   "metadata": {},
   "outputs": [],
   "source": [
    "scaler = StandardScaler()\n",
    "scaler.fit(X_num)\n",
    "X_scaled = scaler.transform(X_num)\n",
    "X_scaled = pd.DataFrame(X_scaled, index=X_num.index, columns=X_num.columns)\n",
    "X = pd.concat([X_scaled, X_cat], axis=1)\n",
    "y = Airline['DELAYED']"
   ]
  },
  {
   "cell_type": "code",
   "execution_count": null,
   "id": "a4fca524",
   "metadata": {},
   "outputs": [],
   "source": [
    "X.head()"
   ]
  },
  {
   "cell_type": "code",
   "execution_count": null,
   "id": "67b3b205",
   "metadata": {},
   "outputs": [],
   "source": [
    "X.isna().sum()"
   ]
  },
  {
   "cell_type": "code",
   "execution_count": null,
   "id": "2d29f62b",
   "metadata": {},
   "outputs": [],
   "source": [
    "from sklearn.model_selection import train_test_split\n",
    "from sklearn.metrics import classification_report"
   ]
  },
  {
   "cell_type": "code",
   "execution_count": null,
   "id": "5c934eb1",
   "metadata": {},
   "outputs": [],
   "source": [
    "from sklearn.linear_model import LogisticRegression"
   ]
  },
  {
   "cell_type": "code",
   "execution_count": null,
   "id": "015dcf84",
   "metadata": {},
   "outputs": [],
   "source": []
  },
  {
   "cell_type": "code",
   "execution_count": null,
   "id": "3513cd17",
   "metadata": {},
   "outputs": [],
   "source": [
    "X_train, X_test, y_train, y_test = train_test_split(X, y, random_state=0)"
   ]
  },
  {
   "cell_type": "code",
   "execution_count": null,
   "id": "78e4a3ec",
   "metadata": {},
   "outputs": [],
   "source": [
    "classifier = LogisticRegression()\n",
    "classifier"
   ]
  },
  {
   "cell_type": "code",
   "execution_count": null,
   "id": "94b9a272",
   "metadata": {},
   "outputs": [],
   "source": [
    "# Need to adjust data to just one month for this to run correctly\n",
    "\n",
    "classifier.fit(X_train, y_train)"
   ]
  },
  {
   "cell_type": "code",
   "execution_count": null,
   "id": "6635b7ae",
   "metadata": {},
   "outputs": [],
   "source": [
    "# Need to adjust data to just one month for this to run correctly\n",
    "\n",
    "\n",
    "print(f\"Training Data Score: {classifier.score(X_train, y_train)}\")\n",
    "print(f\"Testing Data Score: {classifier.score(X_test, y_test)}\")"
   ]
  },
  {
   "cell_type": "code",
   "execution_count": null,
   "id": "196e49b3",
   "metadata": {},
   "outputs": [],
   "source": []
  },
  {
   "cell_type": "code",
   "execution_count": null,
   "id": "39aeec7a",
   "metadata": {},
   "outputs": [],
   "source": [
    "# Train a Random Forest Classifier model and print the model score\n",
    "from sklearn.ensemble import RandomForestClassifier"
   ]
  },
  {
   "cell_type": "code",
   "execution_count": null,
   "id": "65c164a7",
   "metadata": {},
   "outputs": [],
   "source": [
    "# Scale the data\n",
    "scaler = StandardScaler()\n",
    "scaler.fit(X_train)\n",
    "X_train_scaled = scaler.transform(X_train)\n",
    "X_test_scaled = scaler.transform(X_test)"
   ]
  },
  {
   "cell_type": "code",
   "execution_count": null,
   "id": "b35cbb22",
   "metadata": {},
   "outputs": [],
   "source": [
    "# Need to adjust data to just one month for this to run correctly\n",
    "\n",
    "\n",
    "randomForestClass = RandomForestClassifier(random_state=42)\n",
    "randomForestClass.fit(X_train, y_train)"
   ]
  },
  {
   "cell_type": "code",
   "execution_count": null,
   "id": "eef07496",
   "metadata": {},
   "outputs": [],
   "source": [
    "# Need to adjust data to just one month for this to run correctly\n",
    "\n",
    "\n",
    "print(\"RandomForestClassifier score: \", randomForestClass.score(X_test,y_test))"
   ]
  },
  {
   "cell_type": "code",
   "execution_count": null,
   "id": "d3d49300",
   "metadata": {},
   "outputs": [],
   "source": [
    "# Need to adjust data to just one month for this to run correctly\n",
    "\n",
    "\n",
    "# Create a RandomForestClassifier model, fit it to the data, and print the model's score.\n",
    "randomForestClass_scaled = RandomForestClassifier(random_state=0)\n",
    "randomForestClass_scaled.fit(X_train_scaled, y_train)\n",
    "print(\"RandomForestClassifier scaled score: \", randomForestClass_scaled.score(X_test_scaled, y_test))"
   ]
  },
  {
   "cell_type": "code",
   "execution_count": null,
   "id": "61130d9b",
   "metadata": {},
   "outputs": [],
   "source": [
    "# Size for images\n",
    "import matplotlib as mpl\n",
    "mpl.rcParams['figure.figsize'] = (17,10)\n",
    "mpl.rcParams['font.size'] = 20"
   ]
  },
  {
   "cell_type": "code",
   "execution_count": null,
   "id": "f75e09e4",
   "metadata": {},
   "outputs": [],
   "source": [
    "# Referencing the column names for plot generation\n",
    "Airline.columns"
   ]
  },
  {
   "cell_type": "code",
   "execution_count": null,
   "id": "75998d2f",
   "metadata": {},
   "outputs": [],
   "source": [
    "sns.heatmap(Airline.corr(), annot=True)"
   ]
  },
  {
   "cell_type": "code",
   "execution_count": null,
   "id": "50f8bcc9",
   "metadata": {},
   "outputs": [],
   "source": [
    "sns.countplot(data=Airline, x='AIRLINE', hue='DELAYED')"
   ]
  },
  {
   "cell_type": "code",
   "execution_count": null,
   "id": "d34c7fd5",
   "metadata": {},
   "outputs": [],
   "source": [
    "sns.histplot(data=Airline, x='AIRLINE', hue='DELAYED', kde=True)"
   ]
  },
  {
   "cell_type": "code",
   "execution_count": null,
   "id": "3403a2b1",
   "metadata": {},
   "outputs": [],
   "source": [
    "sns.countplot(data=Airline, x='DAY', hue='DELAYED')"
   ]
  },
  {
   "cell_type": "code",
   "execution_count": null,
   "id": "ff76672f",
   "metadata": {},
   "outputs": [],
   "source": [
    "sns.histplot(data=Airline, x='DAY', hue='DELAYED')"
   ]
  },
  {
   "cell_type": "code",
   "execution_count": null,
   "id": "3ccdfb8a",
   "metadata": {},
   "outputs": [],
   "source": [
    "sns.countplot(data=Airline, x='ORIGIN_AIRPORT', hue='DELAYED')"
   ]
  },
  {
   "cell_type": "code",
   "execution_count": null,
   "id": "59259a1a",
   "metadata": {},
   "outputs": [],
   "source": [
    "airfrom = Airline['ORIGIN_AIRPORT'].value_counts()\n",
    "plt.plot(range(len(airfrom)), airfrom)"
   ]
  },
  {
   "cell_type": "code",
   "execution_count": null,
   "id": "0754cc65",
   "metadata": {},
   "outputs": [],
   "source": [
    "Airline['ORIGIN_AIRPORT'] = Airline['ORIGIN_AIRPORT'].apply(lambda s: s if str(s) in airfrom[:50] else 'others')"
   ]
  },
  {
   "cell_type": "code",
   "execution_count": null,
   "id": "fb6fdd57",
   "metadata": {},
   "outputs": [],
   "source": [
    "fig = plt.figure(figsize=(15, 8))\n",
    "sns.countplot(data=Airline, x='ORIGIN_AIRPORT', hue='DELAYED')\n",
    "plt.xticks(rotation=90)\n",
    "plt.show()"
   ]
  },
  {
   "cell_type": "code",
   "execution_count": null,
   "id": "82a7456a",
   "metadata": {},
   "outputs": [],
   "source": [
    "sns.countplot(data=Airline, x='DESTINATION_AIRPORT', hue='DELAYED')"
   ]
  },
  {
   "cell_type": "code",
   "execution_count": null,
   "id": "f417d858",
   "metadata": {},
   "outputs": [],
   "source": [
    "airto = Airline['DESTINATION_AIRPORT'].value_counts()\n",
    "plt.plot(range(len(airto)), airto)"
   ]
  },
  {
   "cell_type": "code",
   "execution_count": null,
   "id": "cbb8a533",
   "metadata": {},
   "outputs": [],
   "source": [
    "Airline['DESTINATION_AIRPORT'] = Airline['DESTINATION_AIRPORT'].apply(lambda s: s if str(s) in airto[:50] else 'others')"
   ]
  }
 ],
 "metadata": {
  "kernelspec": {
   "display_name": "Python [conda env:PythonData38] *",
   "language": "python",
   "name": "conda-env-PythonData38-py"
  },
  "language_info": {
   "codemirror_mode": {
    "name": "ipython",
    "version": 3
   },
   "file_extension": ".py",
   "mimetype": "text/x-python",
   "name": "python",
   "nbconvert_exporter": "python",
   "pygments_lexer": "ipython3",
   "version": "3.8.12"
  }
 },
 "nbformat": 4,
 "nbformat_minor": 5
}
